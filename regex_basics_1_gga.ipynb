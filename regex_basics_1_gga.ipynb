{
 "cells": [
  {
   "cell_type": "markdown",
   "metadata": {},
   "source": [
    "## Regex Basics (Python)\n",
    "\n",
    "regex or regular expression is really fascinating and useful from an applied linguistics standpoint. Regular expressions are a kind of 'meta' language to standardize exactly what in written expression we are talking about, so that when we are looking for something specific we can refer to that so exactly that even a computer program will be able to automate that process. \n",
    "\n",
    "Consistant patterns or formats such as phone numbers and email addresses can easily be described or expressed using regular expressions. \n",
    "\n",
    "## How & What\n",
    "\n",
    "Using a regular expression starts with making a \"pattern\" \n",
    "(which in python is a string).\n",
    "e.g.\n",
    "(This looks for any indivdul characters that are number 'digits')\n",
    "\n",
    "```\n",
    "r\"\\d\"\n",
    "```\n",
    "or \n",
    "(This looks for sets of only 3 consecutive digits (not 2 or 4 or other)\n",
    "```\n",
    "r\"\\d{3}\"\n",
    "```\n",
    "(This looks for sets of digits of any length)\n",
    "or \n",
    "```\n",
    "r\"\\d+\"\n",
    "```\n",
    "\n",
    "Now there is also an important \"what\" are you looking for and asking about.\n",
    "For example, you may want to know just WHERE in the text your item is,\n",
    "or you may just want to know WHAT the item is. So be sure you are asking the right question\n",
    "with your regular expression.\n",
    "\n",
    "Note: people usually look up regex commands in tables and charts, as opposed to trying to memorize them all."
   ]
  },
  {
   "cell_type": "markdown",
   "metadata": {},
   "source": [
    "# Charaters\n",
    "Common abstract character types for regex include\n",
    "(Note the pattern of lower case and upper case):\n",
    "\n",
    "#### \\d  digit\n",
    "#### \\D  NOT a digit\n",
    "\n",
    "#### \\w  alphabetic\n",
    "#### \\W  NOT alphabetic\n",
    "\n",
    "#### \\s  white space\n",
    "#### \\S  NOT white space\n"
   ]
  },
  {
   "cell_type": "markdown",
   "metadata": {},
   "source": [
    "# Quantifiers\n",
    "\n",
    "#### +      Occurs one or more times\n",
    "#### {#}    Occurs exactly # times\n",
    "#### {#,#}  Occurs from # to # times\n",
    "#### {#,}   Occurs # OR more times\n",
    "#### *      Occurs zero OR more times\n",
    "#### ?      Occurs once or never [binary, 1, 0]"
   ]
  },
  {
   "cell_type": "code",
   "execution_count": 1,
   "metadata": {},
   "outputs": [],
   "source": [
    "# import the regex library\n",
    "import re"
   ]
  },
  {
   "cell_type": "code",
   "execution_count": 2,
   "metadata": {},
   "outputs": [],
   "source": [
    "# digits \\d"
   ]
  },
  {
   "cell_type": "code",
   "execution_count": 25,
   "metadata": {},
   "outputs": [],
   "source": [
    "text_1 = \"The phone number of the agent is 328-289-2838. Call hello world! Is?\""
   ]
  },
  {
   "cell_type": "code",
   "execution_count": 26,
   "metadata": {},
   "outputs": [
    {
     "data": {
      "text/plain": [
       "True"
      ]
     },
     "execution_count": 26,
     "metadata": {},
     "output_type": "execute_result"
    }
   ],
   "source": [
    "\"phone\" in text_1"
   ]
  },
  {
   "cell_type": "code",
   "execution_count": 27,
   "metadata": {},
   "outputs": [
    {
     "data": {
      "text/plain": [
       "(33, 36)"
      ]
     },
     "execution_count": 27,
     "metadata": {},
     "output_type": "execute_result"
    }
   ],
   "source": [
    "# span tells you where in the text the pattern starts, and where it stops.\n",
    "\n",
    "pattern = r\"\\d+\"\n",
    "text = text_1\n",
    "\n",
    "my_match = re.search(pattern, text)\n",
    "\n",
    "my_match.span()"
   ]
  },
  {
   "cell_type": "code",
   "execution_count": 6,
   "metadata": {},
   "outputs": [
    {
     "data": {
      "text/plain": [
       "(33, 36)"
      ]
     },
     "execution_count": 6,
     "metadata": {},
     "output_type": "execute_result"
    }
   ],
   "source": [
    "my_match.span()"
   ]
  },
  {
   "cell_type": "code",
   "execution_count": 7,
   "metadata": {},
   "outputs": [],
   "source": [
    "# re.search only finds first result\n",
    "# re.findall"
   ]
  },
  {
   "cell_type": "code",
   "execution_count": 29,
   "metadata": {},
   "outputs": [
    {
     "data": {
      "text/plain": [
       "['3', '2', '8', '2', '8', '9', '2', '8', '3', '8']"
      ]
     },
     "execution_count": 29,
     "metadata": {},
     "output_type": "execute_result"
    }
   ],
   "source": [
    "pattern = r\"\\d\"\n",
    "text = text_1\n",
    "\n",
    "my_match = re.findall(pattern, text)\n",
    "\n",
    "my_match"
   ]
  },
  {
   "cell_type": "code",
   "execution_count": 28,
   "metadata": {},
   "outputs": [
    {
     "data": {
      "text/plain": [
       "['328', '289', '283']"
      ]
     },
     "execution_count": 28,
     "metadata": {},
     "output_type": "execute_result"
    }
   ],
   "source": [
    "pattern = r\"\\d{3}\"\n",
    "text = text_1\n",
    "\n",
    "my_match = re.findall(pattern, text)\n",
    "\n",
    "my_match"
   ]
  },
  {
   "cell_type": "code",
   "execution_count": 8,
   "metadata": {},
   "outputs": [
    {
     "data": {
      "text/plain": [
       "['328', '289', '2838']"
      ]
     },
     "execution_count": 8,
     "metadata": {},
     "output_type": "execute_result"
    }
   ],
   "source": [
    "pattern = r\"\\d+\"\n",
    "text = text_1\n",
    "\n",
    "my_match = re.findall(pattern, text)\n",
    "\n",
    "my_match"
   ]
  },
  {
   "cell_type": "code",
   "execution_count": 9,
   "metadata": {},
   "outputs": [
    {
     "name": "stdout",
     "output_type": "stream",
     "text": [
      "(4, 9)\n"
     ]
    }
   ],
   "source": [
    "for match in re.finditer(\"phone\",text):\n",
    "    print(match.span())"
   ]
  },
  {
   "cell_type": "code",
   "execution_count": 10,
   "metadata": {},
   "outputs": [
    {
     "name": "stdout",
     "output_type": "stream",
     "text": [
      "(33, 34)\n",
      "(34, 35)\n",
      "(35, 36)\n",
      "(37, 38)\n",
      "(38, 39)\n",
      "(39, 40)\n",
      "(41, 42)\n",
      "(42, 43)\n",
      "(43, 44)\n",
      "(44, 45)\n"
     ]
    }
   ],
   "source": [
    "# here you are looking for the location of every individual character\n",
    "for match in re.finditer(r\"\\d\",text):\n",
    "    print(match.span())"
   ]
  },
  {
   "cell_type": "code",
   "execution_count": 30,
   "metadata": {},
   "outputs": [
    {
     "name": "stdout",
     "output_type": "stream",
     "text": [
      "(33, 36)\n",
      "(37, 40)\n",
      "(41, 44)\n"
     ]
    }
   ],
   "source": [
    "# Here you are looking for the location of just sets of 3\n",
    "for match in re.finditer(r\"\\d{3}\",text):\n",
    "    print(match.span())"
   ]
  },
  {
   "cell_type": "code",
   "execution_count": 11,
   "metadata": {},
   "outputs": [],
   "source": [
    "# this is one way of specifying a phone number\n",
    "pattern = r'\\d\\d\\d-\\d\\d\\d-\\d\\d\\d\\d'"
   ]
  },
  {
   "cell_type": "code",
   "execution_count": 12,
   "metadata": {},
   "outputs": [],
   "source": [
    "phone_numbers = re.findall(pattern, text)"
   ]
  },
  {
   "cell_type": "code",
   "execution_count": 13,
   "metadata": {},
   "outputs": [
    {
     "data": {
      "text/plain": [
       "['328-289-2838']"
      ]
     },
     "execution_count": 13,
     "metadata": {},
     "output_type": "execute_result"
    }
   ],
   "source": [
    "phone_numbers"
   ]
  },
  {
   "cell_type": "code",
   "execution_count": 14,
   "metadata": {},
   "outputs": [],
   "source": [
    "#quantifiers\n",
    "\n",
    "# here is another way of specifying a phone number\n",
    "pattern = r'\\d{3}-\\d{3}-\\d{4}'"
   ]
  },
  {
   "cell_type": "code",
   "execution_count": 15,
   "metadata": {},
   "outputs": [
    {
     "data": {
      "text/plain": [
       "['328-289-2838']"
      ]
     },
     "execution_count": 15,
     "metadata": {},
     "output_type": "execute_result"
    }
   ],
   "source": [
    "phone_numbers = re.findall(pattern, text)\n",
    "phone_numbers"
   ]
  },
  {
   "cell_type": "code",
   "execution_count": 16,
   "metadata": {},
   "outputs": [],
   "source": [
    "# grouping\n",
    "pattern = r'(\\d{3})-(\\d{3})-(\\d{4})'\n",
    "my_match = re.search(pattern, text)\n"
   ]
  },
  {
   "cell_type": "code",
   "execution_count": 17,
   "metadata": {},
   "outputs": [
    {
     "data": {
      "text/plain": [
       "<re.Match object; span=(33, 45), match='328-289-2838'>"
      ]
     },
     "execution_count": 17,
     "metadata": {},
     "output_type": "execute_result"
    }
   ],
   "source": [
    "my_match"
   ]
  },
  {
   "cell_type": "code",
   "execution_count": 18,
   "metadata": {},
   "outputs": [
    {
     "data": {
      "text/plain": [
       "'328-289-2838'"
      ]
     },
     "execution_count": 18,
     "metadata": {},
     "output_type": "execute_result"
    }
   ],
   "source": [
    "my_match.group()"
   ]
  },
  {
   "cell_type": "code",
   "execution_count": 19,
   "metadata": {},
   "outputs": [
    {
     "data": {
      "text/plain": [
       "'328'"
      ]
     },
     "execution_count": 19,
     "metadata": {},
     "output_type": "execute_result"
    }
   ],
   "source": [
    "# return just one group\n",
    "# but doesn't work with find-all?\n",
    "my_match.group(1)"
   ]
  },
  {
   "cell_type": "code",
   "execution_count": 20,
   "metadata": {},
   "outputs": [],
   "source": [
    "text_2 = \"cat sat hat fish dish\""
   ]
  },
  {
   "cell_type": "code",
   "execution_count": 21,
   "metadata": {},
   "outputs": [],
   "source": [
    "# wildcard\n",
    "\n",
    "text = text_2\n",
    "\n",
    "pattern = r'.at'"
   ]
  },
  {
   "cell_type": "code",
   "execution_count": 22,
   "metadata": {},
   "outputs": [],
   "source": [
    "my_match = re.findall(pattern, text)"
   ]
  },
  {
   "cell_type": "code",
   "execution_count": 23,
   "metadata": {},
   "outputs": [
    {
     "data": {
      "text/plain": [
       "['cat', 'sat', 'hat']"
      ]
     },
     "execution_count": 23,
     "metadata": {},
     "output_type": "execute_result"
    }
   ],
   "source": [
    "my_match"
   ]
  },
  {
   "cell_type": "code",
   "execution_count": 24,
   "metadata": {},
   "outputs": [
    {
     "data": {
      "text/plain": [
       "[]"
      ]
     },
     "execution_count": 24,
     "metadata": {},
     "output_type": "execute_result"
    }
   ],
   "source": [
    "# ^start and end$\n",
    "# only reflect...a whole line? or string?\n",
    "\n",
    "text = text_1\n",
    "\n",
    "pattern = r'\\!$'\n",
    "\n",
    "my_match = re.findall(pattern, text)\n",
    "my_match"
   ]
  },
  {
   "cell_type": "code",
   "execution_count": 35,
   "metadata": {},
   "outputs": [
    {
     "data": {
      "text/plain": [
       "['3', '2', '8', '2', '8', '9', '2', '8', '3', '8']"
      ]
     },
     "execution_count": 35,
     "metadata": {},
     "output_type": "execute_result"
    }
   ],
   "source": [
    "# [] for [words]\n",
    "# ^start and end$\n",
    "# only reflect...a whole line? or string?\n",
    "\n",
    "# hmm...include and exclude vs. starts and ends?\n",
    "\n",
    "text = text_1\n",
    "\n",
    "pattern = r'[\\d$]'\n",
    "\n",
    "my_match = re.findall(pattern, text)\n",
    "my_match"
   ]
  },
  {
   "cell_type": "code",
   "execution_count": 36,
   "metadata": {},
   "outputs": [
    {
     "data": {
      "text/plain": [
       "['T',\n",
       " 'h',\n",
       " 'e',\n",
       " ' ',\n",
       " 'p',\n",
       " 'h',\n",
       " 'o',\n",
       " 'n',\n",
       " 'e',\n",
       " ' ',\n",
       " 'n',\n",
       " 'u',\n",
       " 'm',\n",
       " 'b',\n",
       " 'e',\n",
       " 'r',\n",
       " ' ',\n",
       " 'o',\n",
       " 'f',\n",
       " ' ',\n",
       " 't',\n",
       " 'h',\n",
       " 'e',\n",
       " ' ',\n",
       " 'a',\n",
       " 'g',\n",
       " 'e',\n",
       " 'n',\n",
       " 't',\n",
       " ' ',\n",
       " 'i',\n",
       " 's',\n",
       " ' ',\n",
       " '-',\n",
       " '-',\n",
       " '.',\n",
       " ' ',\n",
       " 'C',\n",
       " 'a',\n",
       " 'l',\n",
       " 'l',\n",
       " ' ',\n",
       " 'h',\n",
       " 'e',\n",
       " 'l',\n",
       " 'l',\n",
       " 'o',\n",
       " ' ',\n",
       " 'w',\n",
       " 'o',\n",
       " 'r',\n",
       " 'l',\n",
       " 'd',\n",
       " '!',\n",
       " ' ',\n",
       " 'I',\n",
       " 's',\n",
       " '?']"
      ]
     },
     "execution_count": 36,
     "metadata": {},
     "output_type": "execute_result"
    }
   ],
   "source": [
    "# [] for [words]\n",
    "# ^start and end$\n",
    "# only reflect...a whole line? or string?\n",
    "\n",
    "# hmm...include and exclude vs. starts and ends?\n",
    "\n",
    "text = text_1\n",
    "\n",
    "pattern = r'[^\\d]'\n",
    "\n",
    "my_match = re.findall(pattern, text)\n",
    "my_match"
   ]
  },
  {
   "cell_type": "code",
   "execution_count": 41,
   "metadata": {},
   "outputs": [
    {
     "data": {
      "text/plain": [
       "['The phone number of the agent is ', '-', '-', '. Call hello world! Is?']"
      ]
     },
     "execution_count": 41,
     "metadata": {},
     "output_type": "execute_result"
    }
   ],
   "source": [
    "# [] for [words]\n",
    "# ^start and end$\n",
    "# only reflect...a whole line? or string?\n",
    "\n",
    "# hmm...include and exclude vs. starts and ends?\n",
    "\n",
    "text = text_1\n",
    "\n",
    "pattern = r'[^\\d]+'\n",
    "\n",
    "my_match = re.findall(pattern, text)\n",
    "my_match"
   ]
  },
  {
   "cell_type": "code",
   "execution_count": 43,
   "metadata": {},
   "outputs": [],
   "source": [
    "text = text_1\n",
    "pattern = r'[^!.? ]+'"
   ]
  },
  {
   "cell_type": "code",
   "execution_count": 44,
   "metadata": {},
   "outputs": [
    {
     "data": {
      "text/plain": [
       "['The',\n",
       " 'phone',\n",
       " 'number',\n",
       " 'of',\n",
       " 'the',\n",
       " 'agent',\n",
       " 'is',\n",
       " '328-289-2838',\n",
       " 'Call',\n",
       " 'hello',\n",
       " 'world',\n",
       " 'Is']"
      ]
     },
     "execution_count": 44,
     "metadata": {},
     "output_type": "execute_result"
    }
   ],
   "source": [
    "my_match = re.findall(pattern, text)\n",
    "my_match"
   ]
  },
  {
   "cell_type": "code",
   "execution_count": 45,
   "metadata": {},
   "outputs": [
    {
     "data": {
      "text/plain": [
       "'The phone number of the agent is 328-289-2838 Call hello world Is'"
      ]
     },
     "execution_count": 45,
     "metadata": {},
     "output_type": "execute_result"
    }
   ],
   "source": [
    "' '.join(my_match)"
   ]
  },
  {
   "cell_type": "code",
   "execution_count": 54,
   "metadata": {},
   "outputs": [],
   "source": [
    "text = text_1\n",
    "pattern = r\"[\\w]+-[\\w]+-[\\w]+\""
   ]
  },
  {
   "cell_type": "code",
   "execution_count": 55,
   "metadata": {},
   "outputs": [
    {
     "data": {
      "text/plain": [
       "'328-289-2838'"
      ]
     },
     "execution_count": 55,
     "metadata": {},
     "output_type": "execute_result"
    }
   ],
   "source": [
    "my_match = re.findall(pattern, text)\n",
    "' '.join(my_match)"
   ]
  },
  {
   "cell_type": "code",
   "execution_count": null,
   "metadata": {},
   "outputs": [],
   "source": [
    "# regex to search for email addresses\n",
    "\n",
    "import re\n",
    "\n",
    "text = page_two_text\n",
    "pattern = r'[\\w]+@[\\w]+.[\\w]+'\n",
    "\n",
    "re.findall(pattern, text)"
   ]
  }
 ],
 "metadata": {
  "kernelspec": {
   "display_name": "Python 3",
   "language": "python",
   "name": "python3"
  },
  "language_info": {
   "codemirror_mode": {
    "name": "ipython",
    "version": 3
   },
   "file_extension": ".py",
   "mimetype": "text/x-python",
   "name": "python",
   "nbconvert_exporter": "python",
   "pygments_lexer": "ipython3",
   "version": "3.8.5"
  }
 },
 "nbformat": 4,
 "nbformat_minor": 4
}
